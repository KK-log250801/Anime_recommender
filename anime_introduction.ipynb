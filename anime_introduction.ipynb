{
  "nbformat": 4,
  "nbformat_minor": 0,
  "metadata": {
    "colab": {
      "provenance": []
    },
    "kernelspec": {
      "name": "python3",
      "display_name": "Python 3"
    },
    "language_info": {
      "name": "python"
    }
  },
  "cells": [
    {
      "cell_type": "markdown",
      "source": [
        "# **今季のお勧めアニメ紹介ツール**\n",
        "アニメ情報サイトからあらすじを入手した上で、あらすじに含まれる単語とユーザーの指定したキーワードの類似性をword2vecを用いて計算し、最終的な類似度スコアの高い順にアニメを表示するツールを作成した。"
      ],
      "metadata": {
        "id": "T49DPUus1C2Y"
      }
    },
    {
      "cell_type": "code",
      "execution_count": null,
      "metadata": {
        "colab": {
          "base_uri": "https://localhost:8080/"
        },
        "id": "GCAi39Sf1Acv",
        "outputId": "18889a28-927e-46f5-a711-b04cd4ced0be"
      },
      "outputs": [
        {
          "output_type": "stream",
          "name": "stdout",
          "text": [
            "Requirement already satisfied: transformers in /usr/local/lib/python3.11/dist-packages (4.53.3)\n",
            "Requirement already satisfied: fugashi in /usr/local/lib/python3.11/dist-packages (1.5.1)\n",
            "Requirement already satisfied: unidic-lite in /usr/local/lib/python3.11/dist-packages (1.0.8)\n",
            "Requirement already satisfied: ipadic in /usr/local/lib/python3.11/dist-packages (1.0.0)\n",
            "Requirement already satisfied: gensim in /usr/local/lib/python3.11/dist-packages (4.3.3)\n",
            "Requirement already satisfied: filelock in /usr/local/lib/python3.11/dist-packages (from transformers) (3.18.0)\n",
            "Requirement already satisfied: huggingface-hub<1.0,>=0.30.0 in /usr/local/lib/python3.11/dist-packages (from transformers) (0.33.4)\n",
            "Requirement already satisfied: numpy>=1.17 in /usr/local/lib/python3.11/dist-packages (from transformers) (1.26.4)\n",
            "Requirement already satisfied: packaging>=20.0 in /usr/local/lib/python3.11/dist-packages (from transformers) (25.0)\n",
            "Requirement already satisfied: pyyaml>=5.1 in /usr/local/lib/python3.11/dist-packages (from transformers) (6.0.2)\n",
            "Requirement already satisfied: regex!=2019.12.17 in /usr/local/lib/python3.11/dist-packages (from transformers) (2024.11.6)\n",
            "Requirement already satisfied: requests in /usr/local/lib/python3.11/dist-packages (from transformers) (2.32.3)\n",
            "Requirement already satisfied: tokenizers<0.22,>=0.21 in /usr/local/lib/python3.11/dist-packages (from transformers) (0.21.2)\n",
            "Requirement already satisfied: safetensors>=0.4.3 in /usr/local/lib/python3.11/dist-packages (from transformers) (0.5.3)\n",
            "Requirement already satisfied: tqdm>=4.27 in /usr/local/lib/python3.11/dist-packages (from transformers) (4.67.1)\n",
            "Requirement already satisfied: scipy<1.14.0,>=1.7.0 in /usr/local/lib/python3.11/dist-packages (from gensim) (1.13.1)\n",
            "Requirement already satisfied: smart-open>=1.8.1 in /usr/local/lib/python3.11/dist-packages (from gensim) (7.3.0.post1)\n",
            "Requirement already satisfied: fsspec>=2023.5.0 in /usr/local/lib/python3.11/dist-packages (from huggingface-hub<1.0,>=0.30.0->transformers) (2025.3.0)\n",
            "Requirement already satisfied: typing-extensions>=3.7.4.3 in /usr/local/lib/python3.11/dist-packages (from huggingface-hub<1.0,>=0.30.0->transformers) (4.14.1)\n",
            "Requirement already satisfied: hf-xet<2.0.0,>=1.1.2 in /usr/local/lib/python3.11/dist-packages (from huggingface-hub<1.0,>=0.30.0->transformers) (1.1.5)\n",
            "Requirement already satisfied: wrapt in /usr/local/lib/python3.11/dist-packages (from smart-open>=1.8.1->gensim) (1.17.2)\n",
            "Requirement already satisfied: charset-normalizer<4,>=2 in /usr/local/lib/python3.11/dist-packages (from requests->transformers) (3.4.2)\n",
            "Requirement already satisfied: idna<4,>=2.5 in /usr/local/lib/python3.11/dist-packages (from requests->transformers) (3.10)\n",
            "Requirement already satisfied: urllib3<3,>=1.21.1 in /usr/local/lib/python3.11/dist-packages (from requests->transformers) (2.5.0)\n",
            "Requirement already satisfied: certifi>=2017.4.17 in /usr/local/lib/python3.11/dist-packages (from requests->transformers) (2025.7.14)\n"
          ]
        }
      ],
      "source": [
        "!pip install transformers fugashi unidic-lite ipadic gensim\n",
        "\n",
        "import os\n",
        "import random\n",
        "import time\n",
        "import urllib.request\n",
        "import tarfile\n",
        "import json\n",
        "\n",
        "import requests\n",
        "from bs4 import BeautifulSoup\n",
        "import gensim\n",
        "from sklearn.metrics.pairwise import cosine_similarity\n",
        "from fugashi import Tagger"
      ]
    },
    {
      "cell_type": "markdown",
      "source": [
        "**各アニメのタイトルと、あらすじの書かれたページのURLの獲得**"
      ],
      "metadata": {
        "id": "VNGFELxRAnYW"
      }
    },
    {
      "cell_type": "code",
      "source": [
        "url = \"https://anime.eiga.com/program/\"  # アニメ情報サイト（アニメハック）のURL\n",
        "res = requests.get(url)\n",
        "res.encoding = res.apparent_encoding\n",
        "soup = BeautifulSoup(res.text, \"lxml\")\n",
        "\n",
        "\n",
        "# アニメのタイトルと詳細ページのURLを抽出し辞書を作成\n",
        "anime_url = {}\n",
        "for div1 in soup.find_all('div', attrs={\"class\": \"animeSeasonItemWrapper\"}):\n",
        "    for div2 in div1.find_all('p', attrs={\"class\": \"seasonAnimeTtl\"}):\n",
        "        next_page_url = div2.find('a')['href']\n",
        "        #print(div2.text)\n",
        "        #print(f\"URL: {url[:-9]}{next_page_url}\")\n",
        "        anime_url[div2.text] = f\"{url[:-9]}{next_page_url}\""
      ],
      "metadata": {
        "id": "BpWBNwbU6Ni0"
      },
      "execution_count": null,
      "outputs": []
    },
    {
      "cell_type": "markdown",
      "source": [
        "**アニメのタイトルとそのあらすじを獲得**"
      ],
      "metadata": {
        "id": "fb15bjWyQC1x"
      }
    },
    {
      "cell_type": "code",
      "source": [
        "anime_abstract = {}\n",
        "headers = {\"User-Agent\": \"Mozilla/5.0 (Macintosh; Intel Mac OS X 10_15_7) AppleWebKit/605.1.15 (KHTML, like Gecko) Version/18.5 Safari/605.1.15\"}\n",
        "\n",
        "# それぞれのアニメのあらすじを抽出し辞書を作成\n",
        "for title, url in anime_url.items():\n",
        "    res = requests.get(url)\n",
        "    res.encoding = res.apparent_encoding\n",
        "    soup = BeautifulSoup(res.text, \"lxml\")\n",
        "    dl = soup.find('dl', id='detailSynopsis')\n",
        "    if dl:\n",
        "        dd = dl.find('dd')\n",
        "        if dd:\n",
        "            story = dd.text.strip()\n",
        "            anime_abstract[title] = story\n",
        "    sleep_time = random.uniform(3.0, 5.0)\n",
        "    time.sleep(sleep_time)\n",
        "\n",
        "#print(anime_abstract)\n",
        "#print(len(anime_abstract))\n",
        "#with open(\"anime_abstract.json\", \"w\", encoding=\"utf-8\") as f:  # タイトルとあらすじの辞書を保存\n",
        "    #json.dump(anime_abstract, f, ensure_ascii=False, indent=2)"
      ],
      "metadata": {
        "id": "tzp9xxUuFFcF"
      },
      "execution_count": null,
      "outputs": []
    },
    {
      "cell_type": "markdown",
      "source": [
        "**スクレイピングを省略する場合**"
      ],
      "metadata": {
        "id": "og_rMsEbWr9C"
      }
    },
    {
      "cell_type": "code",
      "source": [
        "\"\"\"\n",
        "# スクレイピングに時間がかかるので、短縮する場合は添付したJSONファイルを適切な場ディレクトリに配置して読み込んでください。よろしくお願い致します。\n",
        "\n",
        "with open(\"anime_abstract.json\", \"r\", encoding=\"utf-8\") as f:\n",
        "    anime_abstract = json.load(f)\n",
        "print(anime_abstract)\n",
        "\"\"\""
      ],
      "metadata": {
        "colab": {
          "base_uri": "https://localhost:8080/",
          "height": 69
        },
        "id": "4AFGHNSUTiGH",
        "outputId": "ffb9a516-523a-4f13-a498-9d95d3e68689"
      },
      "execution_count": null,
      "outputs": [
        {
          "output_type": "execute_result",
          "data": {
            "text/plain": [
              "'\\n# スクレイピングに時間がかかるので、短縮する場合は添付したJSONファイルを適切な場ディレクトリに配置して読み込んでください。よろしくお願い致します。\\n\\nwith open(\"anime_abstract.json\", \"r\", encoding=\"utf-8\") as f:\\n    anime_abstract = json.load(f)\\nprint(anime_abstract)\\n'"
            ],
            "application/vnd.google.colaboratory.intrinsic+json": {
              "type": "string"
            }
          },
          "metadata": {},
          "execution_count": 4
        }
      ]
    },
    {
      "cell_type": "markdown",
      "source": [
        "**fugashiを用いてあらすじから普通名詞を取り出す**"
      ],
      "metadata": {
        "id": "L4z5oxA74TEq"
      }
    },
    {
      "cell_type": "code",
      "source": [
        "anime_wakati = {}\n",
        "tagger = Tagger()\n",
        "\n",
        "for title, abstract in anime_abstract.items():\n",
        "    wakati = []\n",
        "    for word in tagger.parseToNodeList(abstract):\n",
        "        if '普通名詞' in word.pos:\n",
        "            wakati.append(word)\n",
        "    anime_wakati[title] = wakati\n",
        "\n",
        "#print(anime_wakati)"
      ],
      "metadata": {
        "id": "QJd-9NmpYNaR"
      },
      "execution_count": null,
      "outputs": []
    },
    {
      "cell_type": "markdown",
      "source": [
        "**word2vec学習済みモデルchiVeのデータを取得**"
      ],
      "metadata": {
        "id": "-l2ZEIw749CW"
      }
    },
    {
      "cell_type": "code",
      "source": [
        "url = \"https://sudachi.s3-ap-northeast-1.amazonaws.com/chive/chive-1.2-mc90_gensim.tar.gz\"\n",
        "archive_path = \"chive-1.2-mc90_gensim.tar.gz\"\n",
        "\n",
        "urllib.request.urlretrieve(url, archive_path)\n",
        "with tarfile.open(archive_path, \"r:gz\") as tar:\n",
        "    tar.extractall()\n",
        "\n",
        "os.remove(archive_path)\n",
        "\n",
        "chive = gensim.models.KeyedVectors.load('chive-1.2-mc90_gensim/chive-1.2-mc90.kv')  # version1.2, 最低頻度90のモデルを使用"
      ],
      "metadata": {
        "id": "GjIo6OmB5sq0"
      },
      "execution_count": null,
      "outputs": []
    },
    {
      "cell_type": "markdown",
      "source": [
        "**ユーザーのキーワードと各アニメのあらすじの類似度スコアを計算**"
      ],
      "metadata": {
        "id": "fIDtjEKH68z2"
      }
    },
    {
      "cell_type": "code",
      "source": [
        "# 以下のリストに,区切りで正規化表記のキーワードを入力\n",
        "keyword_list = ['冒険', '宝', '犯罪']\n",
        "\n",
        "similarity_score = {}\n",
        "for title, tokens in anime_wakati.items():\n",
        "    keyword_score = []\n",
        "    for keyword in keyword_list:\n",
        "        scores = []\n",
        "        for token in tokens:\n",
        "            try:\n",
        "                # 各キーワードと、アニメのあらすじに含まれるそれぞれの普通名詞のコサイン類似度を計算\n",
        "                score = cosine_similarity([chive[keyword]], [chive[token.surface]])[0][0]\n",
        "                scores.append(score)\n",
        "            except KeyError:  # 含まれない単語はパス\n",
        "                continue\n",
        "        keyword_score.append(scores)\n",
        "    similarity_score[title] = keyword_score  # キーワードごとの類似度リストの入ったリストを、keyをタイトルとして辞書に格納"
      ],
      "metadata": {
        "id": "9ClJiurH68O-"
      },
      "execution_count": null,
      "outputs": []
    },
    {
      "cell_type": "markdown",
      "source": [
        "**最終類似度スコアの値に応じてユーザーへお勧めのアニメを紹介**"
      ],
      "metadata": {
        "id": "7gdPndoq8uTm"
      }
    },
    {
      "cell_type": "code",
      "source": [
        "# それぞれの（キーワードごとの）リストのトップ5の値を全て足して、最終的なアニメの類似度スコアとする\n",
        "\n",
        "top_n = 5  # トップ何の値を足すか\n",
        "final_score_dict = {}\n",
        "\n",
        "for title, scores in similarity_score.items():\n",
        "    total_score = 0\n",
        "    for score_list in scores:\n",
        "        top_scores = sorted(score_list, reverse=True)[:top_n]\n",
        "        total_score += sum(top_scores)  # 各リストのTOP5の値を合計し最終スコアに\n",
        "    final_score_dict[title] = total_score\n",
        "\n",
        "\n",
        "# 類似度スコア順にお勧めのアニメを表示\n",
        "\n",
        "num_recommendations = 5  # お勧めするアニメの数\n",
        "recommend_anime = sorted(final_score_dict.items(), key=lambda x: x[1], reverse=True)[:num_recommendations]\n",
        "print(\"あなたへのお勧めアニメ\")\n",
        "for i, (title, score) in enumerate(recommend_anime):\n",
        "    print(f\"お勧め度{i + 1}位 「{title}」 : {score:.4f}\")"
      ],
      "metadata": {
        "colab": {
          "base_uri": "https://localhost:8080/"
        },
        "id": "WoieWiOM8t57",
        "outputId": "5d838962-fd6c-4b37-8cb1-2a55d72e0397"
      },
      "execution_count": null,
      "outputs": [
        {
          "output_type": "stream",
          "name": "stdout",
          "text": [
            "あなたへのお勧めアニメ\n",
            "お勧め度1位 「勇者パーティーを追放された白魔導師、Sランク冒険者に拾われる ～この白魔導師が規格外すぎる～」 : 6.4290\n",
            "お勧め度2位 「追放者食堂へようこそ！」 : 6.3244\n",
            "お勧め度3位 「ポケットモンスター」 : 6.1138\n",
            "お勧め度4位 「ONE PIECE（ワンピース）」 : 5.8887\n",
            "お勧め度5位 「SAND LAND: THE SERIES」 : 5.7532\n"
          ]
        }
      ]
    }
  ]
}